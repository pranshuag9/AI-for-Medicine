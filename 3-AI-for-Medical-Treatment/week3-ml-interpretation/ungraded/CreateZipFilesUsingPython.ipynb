{
 "cells": [
  {
   "cell_type": "code",
   "execution_count": 7,
   "metadata": {},
   "outputs": [],
   "source": [
    "import os\n",
    "import zipfile\n",
    "\n",
    "def zipdir(path):\n",
    "    # ziph is zipfile handle\n",
    "    count = 1\n",
    "    filename = str(count) + \".zip\"\n",
    "    ziph = zipfile.ZipFile(filename, 'w', zipfile.ZIP_DEFLATED)\n",
    "    for root, dirs, files in os.walk(path):\n",
    "        for file in files:\n",
    "            if (count % 100) == 0:\n",
    "                filename = str(int(count / 100)) + \".zip\"\n",
    "                ziph = zipfile.ZipFile(filename, 'w', zipfile.ZIP_DEFLATED)\n",
    "            ziph.write(os.path.join(root, file))\n",
    "            count += 1\n",
    "\n",
    "if __name__ == '__main__':\n",
    "    zipdir('./nih_new/images-small/')\n",
    "    zipf.close()"
   ]
  },
  {
   "cell_type": "code",
   "execution_count": null,
   "metadata": {},
   "outputs": [],
   "source": []
  }
 ],
 "metadata": {
  "kernelspec": {
   "display_name": "Python 3",
   "language": "python",
   "name": "python3"
  },
  "language_info": {
   "codemirror_mode": {
    "name": "ipython",
    "version": 3
   },
   "file_extension": ".py",
   "mimetype": "text/x-python",
   "name": "python",
   "nbconvert_exporter": "python",
   "pygments_lexer": "ipython3",
   "version": "3.6.3"
  }
 },
 "nbformat": 4,
 "nbformat_minor": 2
}
